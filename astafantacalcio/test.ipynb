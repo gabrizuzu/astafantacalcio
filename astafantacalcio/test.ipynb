{
 "cells": [
  {
   "cell_type": "code",
   "execution_count": 3,
   "metadata": {},
   "outputs": [
    {
     "name": "stdout",
     "output_type": "stream",
     "text": [
      "       Id  R   RM         Nome   Squadra  Qt.A  Qt.I  Diff.  Qt.A M  Qt.I M  \\\n",
      "0    2428  P  Por       Sommer     Inter    18    18      0      18      18   \n",
      "1    5876  P  Por  Di Gregorio  Juventus    17    17      0      17      17   \n",
      "2    4312  P  Por      Maignan     Milan    15    15      0      15      15   \n",
      "3     572  P  Por        Meret    Napoli    14    15     -1      14      15   \n",
      "4    5841  P  Por       Svilar      Roma    14    13      1      14      13   \n",
      "..    ... ..  ...          ...       ...   ...   ...    ...     ...     ...   \n",
      "508  6598  A   Pc     Mutandwa  Cagliari     1     1      0       1       1   \n",
      "509  6603  A    A   Joao Costa      Roma     1     1      0       1       1   \n",
      "510  6648  A  W;A        Jasim      Como     1     1      0       1       1   \n",
      "511  6670  A   Pc  Charpentier     Parma     1     1      0       1       1   \n",
      "512  6822  A   Pc      Ekhator     Genoa     1     1      0       1       1   \n",
      "\n",
      "     Diff.M  FVM  FVM M  \n",
      "0         0  111    111  \n",
      "1         0  100    100  \n",
      "2         0   82     82  \n",
      "3        -1   72     72  \n",
      "4         1   72     68  \n",
      "..      ...  ...    ...  \n",
      "508       0    2      2  \n",
      "509       0    1      1  \n",
      "510       0    1      1  \n",
      "511       0    1      1  \n",
      "512       0    1      1  \n",
      "\n",
      "[513 rows x 13 columns]\n"
     ]
    }
   ],
   "source": [
    "import pandas as pd\n",
    "\n",
    "# Prova a leggere il file Excel\n",
    "file_path = '/Users/gabrieleshu/Desktop/astafantacalcio/astafantacalcio/asta/giocatori.xlsx'\n",
    "df = pd.read_excel(file_path, engine='openpyxl')\n",
    "\n",
    "print(df)  # Stampa le prime righe del DataFrame per verificare i dati\n"
   ]
  },
  {
   "cell_type": "code",
   "execution_count": 1,
   "metadata": {},
   "outputs": [
    {
     "ename": "ImproperlyConfigured",
     "evalue": "Requested setting INSTALLED_APPS, but settings are not configured. You must either define the environment variable DJANGO_SETTINGS_MODULE or call settings.configure() before accessing settings.",
     "output_type": "error",
     "traceback": [
      "\u001b[0;31m---------------------------------------------------------------------------\u001b[0m",
      "\u001b[0;31mImproperlyConfigured\u001b[0m                      Traceback (most recent call last)",
      "Cell \u001b[0;32mIn[1], line 1\u001b[0m\n\u001b[0;32m----> 1\u001b[0m \u001b[38;5;28;01mfrom\u001b[39;00m \u001b[38;5;21;01masta\u001b[39;00m\u001b[38;5;21;01m.\u001b[39;00m\u001b[38;5;21;01mmodels\u001b[39;00m \u001b[38;5;28;01mimport\u001b[39;00m Giocatore\n\u001b[1;32m      3\u001b[0m \u001b[38;5;66;03m# Ottieni tutti i giocatori\u001b[39;00m\n\u001b[1;32m      4\u001b[0m giocatori \u001b[38;5;241m=\u001b[39m Giocatore\u001b[38;5;241m.\u001b[39mobjects\u001b[38;5;241m.\u001b[39mall()\n",
      "File \u001b[0;32m~/Desktop/astafantacalcio/astafantacalcio/asta/models.py:5\u001b[0m\n\u001b[1;32m      1\u001b[0m \u001b[38;5;66;03m# asta/models.py\u001b[39;00m\n\u001b[1;32m      3\u001b[0m \u001b[38;5;28;01mfrom\u001b[39;00m \u001b[38;5;21;01mdjango\u001b[39;00m\u001b[38;5;21;01m.\u001b[39;00m\u001b[38;5;21;01mdb\u001b[39;00m \u001b[38;5;28;01mimport\u001b[39;00m models\n\u001b[0;32m----> 5\u001b[0m \u001b[38;5;28;01mclass\u001b[39;00m \u001b[38;5;21;01mUtente\u001b[39;00m(models\u001b[38;5;241m.\u001b[39mModel):\n\u001b[1;32m      6\u001b[0m     username \u001b[38;5;241m=\u001b[39m models\u001b[38;5;241m.\u001b[39mCharField(max_length\u001b[38;5;241m=\u001b[39m\u001b[38;5;241m30\u001b[39m)\n\u001b[1;32m      7\u001b[0m     crediti \u001b[38;5;241m=\u001b[39m models\u001b[38;5;241m.\u001b[39mDecimalField(max_digits\u001b[38;5;241m=\u001b[39m\u001b[38;5;241m10\u001b[39m, decimal_places\u001b[38;5;241m=\u001b[39m\u001b[38;5;241m2\u001b[39m, default\u001b[38;5;241m=\u001b[39m\u001b[38;5;241m500.00\u001b[39m)\n",
      "File \u001b[0;32m/Library/Frameworks/Python.framework/Versions/3.10/lib/python3.10/site-packages/django/db/models/base.py:129\u001b[0m, in \u001b[0;36mModelBase.__new__\u001b[0;34m(cls, name, bases, attrs, **kwargs)\u001b[0m\n\u001b[1;32m    126\u001b[0m app_label \u001b[38;5;241m=\u001b[39m \u001b[38;5;28;01mNone\u001b[39;00m\n\u001b[1;32m    128\u001b[0m \u001b[38;5;66;03m# Look for an application configuration to attach the model to.\u001b[39;00m\n\u001b[0;32m--> 129\u001b[0m app_config \u001b[38;5;241m=\u001b[39m \u001b[43mapps\u001b[49m\u001b[38;5;241;43m.\u001b[39;49m\u001b[43mget_containing_app_config\u001b[49m\u001b[43m(\u001b[49m\u001b[43mmodule\u001b[49m\u001b[43m)\u001b[49m\n\u001b[1;32m    131\u001b[0m \u001b[38;5;28;01mif\u001b[39;00m \u001b[38;5;28mgetattr\u001b[39m(meta, \u001b[38;5;124m\"\u001b[39m\u001b[38;5;124mapp_label\u001b[39m\u001b[38;5;124m\"\u001b[39m, \u001b[38;5;28;01mNone\u001b[39;00m) \u001b[38;5;129;01mis\u001b[39;00m \u001b[38;5;28;01mNone\u001b[39;00m:\n\u001b[1;32m    132\u001b[0m     \u001b[38;5;28;01mif\u001b[39;00m app_config \u001b[38;5;129;01mis\u001b[39;00m \u001b[38;5;28;01mNone\u001b[39;00m:\n",
      "File \u001b[0;32m/Library/Frameworks/Python.framework/Versions/3.10/lib/python3.10/site-packages/django/apps/registry.py:260\u001b[0m, in \u001b[0;36mApps.get_containing_app_config\u001b[0;34m(self, object_name)\u001b[0m\n\u001b[1;32m    251\u001b[0m \u001b[38;5;28;01mdef\u001b[39;00m \u001b[38;5;21mget_containing_app_config\u001b[39m(\u001b[38;5;28mself\u001b[39m, object_name):\n\u001b[1;32m    252\u001b[0m \u001b[38;5;250m    \u001b[39m\u001b[38;5;124;03m\"\"\"\u001b[39;00m\n\u001b[1;32m    253\u001b[0m \u001b[38;5;124;03m    Look for an app config containing a given object.\u001b[39;00m\n\u001b[1;32m    254\u001b[0m \n\u001b[0;32m   (...)\u001b[0m\n\u001b[1;32m    258\u001b[0m \u001b[38;5;124;03m    Return None if the object isn't in any registered app config.\u001b[39;00m\n\u001b[1;32m    259\u001b[0m \u001b[38;5;124;03m    \"\"\"\u001b[39;00m\n\u001b[0;32m--> 260\u001b[0m     \u001b[38;5;28;43mself\u001b[39;49m\u001b[38;5;241;43m.\u001b[39;49m\u001b[43mcheck_apps_ready\u001b[49m\u001b[43m(\u001b[49m\u001b[43m)\u001b[49m\n\u001b[1;32m    261\u001b[0m     candidates \u001b[38;5;241m=\u001b[39m []\n\u001b[1;32m    262\u001b[0m     \u001b[38;5;28;01mfor\u001b[39;00m app_config \u001b[38;5;129;01min\u001b[39;00m \u001b[38;5;28mself\u001b[39m\u001b[38;5;241m.\u001b[39mapp_configs\u001b[38;5;241m.\u001b[39mvalues():\n",
      "File \u001b[0;32m/Library/Frameworks/Python.framework/Versions/3.10/lib/python3.10/site-packages/django/apps/registry.py:137\u001b[0m, in \u001b[0;36mApps.check_apps_ready\u001b[0;34m(self)\u001b[0m\n\u001b[1;32m    132\u001b[0m \u001b[38;5;28;01mfrom\u001b[39;00m \u001b[38;5;21;01mdjango\u001b[39;00m\u001b[38;5;21;01m.\u001b[39;00m\u001b[38;5;21;01mconf\u001b[39;00m \u001b[38;5;28;01mimport\u001b[39;00m settings\n\u001b[1;32m    134\u001b[0m \u001b[38;5;66;03m# If \"not ready\" is due to unconfigured settings, accessing\u001b[39;00m\n\u001b[1;32m    135\u001b[0m \u001b[38;5;66;03m# INSTALLED_APPS raises a more helpful ImproperlyConfigured\u001b[39;00m\n\u001b[1;32m    136\u001b[0m \u001b[38;5;66;03m# exception.\u001b[39;00m\n\u001b[0;32m--> 137\u001b[0m \u001b[43msettings\u001b[49m\u001b[38;5;241;43m.\u001b[39;49m\u001b[43mINSTALLED_APPS\u001b[49m\n\u001b[1;32m    138\u001b[0m \u001b[38;5;28;01mraise\u001b[39;00m AppRegistryNotReady(\u001b[38;5;124m\"\u001b[39m\u001b[38;5;124mApps aren\u001b[39m\u001b[38;5;124m'\u001b[39m\u001b[38;5;124mt loaded yet.\u001b[39m\u001b[38;5;124m\"\u001b[39m)\n",
      "File \u001b[0;32m/Library/Frameworks/Python.framework/Versions/3.10/lib/python3.10/site-packages/django/conf/__init__.py:81\u001b[0m, in \u001b[0;36mLazySettings.__getattr__\u001b[0;34m(self, name)\u001b[0m\n\u001b[1;32m     79\u001b[0m \u001b[38;5;250m\u001b[39m\u001b[38;5;124;03m\"\"\"Return the value of a setting and cache it in self.__dict__.\"\"\"\u001b[39;00m\n\u001b[1;32m     80\u001b[0m \u001b[38;5;28;01mif\u001b[39;00m (_wrapped \u001b[38;5;241m:=\u001b[39m \u001b[38;5;28mself\u001b[39m\u001b[38;5;241m.\u001b[39m_wrapped) \u001b[38;5;129;01mis\u001b[39;00m empty:\n\u001b[0;32m---> 81\u001b[0m     \u001b[38;5;28;43mself\u001b[39;49m\u001b[38;5;241;43m.\u001b[39;49m\u001b[43m_setup\u001b[49m\u001b[43m(\u001b[49m\u001b[43mname\u001b[49m\u001b[43m)\u001b[49m\n\u001b[1;32m     82\u001b[0m     _wrapped \u001b[38;5;241m=\u001b[39m \u001b[38;5;28mself\u001b[39m\u001b[38;5;241m.\u001b[39m_wrapped\n\u001b[1;32m     83\u001b[0m val \u001b[38;5;241m=\u001b[39m \u001b[38;5;28mgetattr\u001b[39m(_wrapped, name)\n",
      "File \u001b[0;32m/Library/Frameworks/Python.framework/Versions/3.10/lib/python3.10/site-packages/django/conf/__init__.py:61\u001b[0m, in \u001b[0;36mLazySettings._setup\u001b[0;34m(self, name)\u001b[0m\n\u001b[1;32m     59\u001b[0m \u001b[38;5;28;01mif\u001b[39;00m \u001b[38;5;129;01mnot\u001b[39;00m settings_module:\n\u001b[1;32m     60\u001b[0m     desc \u001b[38;5;241m=\u001b[39m (\u001b[38;5;124m\"\u001b[39m\u001b[38;5;124msetting \u001b[39m\u001b[38;5;132;01m%s\u001b[39;00m\u001b[38;5;124m\"\u001b[39m \u001b[38;5;241m%\u001b[39m name) \u001b[38;5;28;01mif\u001b[39;00m name \u001b[38;5;28;01melse\u001b[39;00m \u001b[38;5;124m\"\u001b[39m\u001b[38;5;124msettings\u001b[39m\u001b[38;5;124m\"\u001b[39m\n\u001b[0;32m---> 61\u001b[0m     \u001b[38;5;28;01mraise\u001b[39;00m ImproperlyConfigured(\n\u001b[1;32m     62\u001b[0m         \u001b[38;5;124m\"\u001b[39m\u001b[38;5;124mRequested \u001b[39m\u001b[38;5;132;01m%s\u001b[39;00m\u001b[38;5;124m, but settings are not configured. \u001b[39m\u001b[38;5;124m\"\u001b[39m\n\u001b[1;32m     63\u001b[0m         \u001b[38;5;124m\"\u001b[39m\u001b[38;5;124mYou must either define the environment variable \u001b[39m\u001b[38;5;132;01m%s\u001b[39;00m\u001b[38;5;124m \u001b[39m\u001b[38;5;124m\"\u001b[39m\n\u001b[1;32m     64\u001b[0m         \u001b[38;5;124m\"\u001b[39m\u001b[38;5;124mor call settings.configure() before accessing settings.\u001b[39m\u001b[38;5;124m\"\u001b[39m\n\u001b[1;32m     65\u001b[0m         \u001b[38;5;241m%\u001b[39m (desc, ENVIRONMENT_VARIABLE)\n\u001b[1;32m     66\u001b[0m     )\n\u001b[1;32m     68\u001b[0m \u001b[38;5;28mself\u001b[39m\u001b[38;5;241m.\u001b[39m_wrapped \u001b[38;5;241m=\u001b[39m Settings(settings_module)\n",
      "\u001b[0;31mImproperlyConfigured\u001b[0m: Requested setting INSTALLED_APPS, but settings are not configured. You must either define the environment variable DJANGO_SETTINGS_MODULE or call settings.configure() before accessing settings."
     ]
    }
   ],
   "source": [
    "from asta.models import Giocatore\n",
    "\n",
    "# Ottieni tutti i giocatori\n",
    "giocatori = Giocatore.objects.all()\n",
    "\n",
    "# Stampa i giocatori\n",
    "for giocatore in giocatori:\n",
    "    print(giocatore.nome, giocatore.prezzo)\n"
   ]
  }
 ],
 "metadata": {
  "kernelspec": {
   "display_name": "venv",
   "language": "python",
   "name": "python3"
  },
  "language_info": {
   "codemirror_mode": {
    "name": "ipython",
    "version": 3
   },
   "file_extension": ".py",
   "mimetype": "text/x-python",
   "name": "python",
   "nbconvert_exporter": "python",
   "pygments_lexer": "ipython3",
   "version": "3.10.11"
  }
 },
 "nbformat": 4,
 "nbformat_minor": 2
}
