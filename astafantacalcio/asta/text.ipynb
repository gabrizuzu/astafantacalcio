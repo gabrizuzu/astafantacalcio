{
 "cells": [
  {
   "cell_type": "code",
   "execution_count": 2,
   "metadata": {},
   "outputs": [
    {
     "ename": "ModuleNotFoundError",
     "evalue": "No module named 'astafantacalcio'",
     "output_type": "error",
     "traceback": [
      "\u001b[0;31m---------------------------------------------------------------------------\u001b[0m",
      "\u001b[0;31mModuleNotFoundError\u001b[0m                       Traceback (most recent call last)",
      "Cell \u001b[0;32mIn[2], line 1\u001b[0m\n\u001b[0;32m----> 1\u001b[0m \u001b[38;5;28;01mfrom\u001b[39;00m \u001b[38;5;21;01mastafantacalcio\u001b[39;00m\u001b[38;5;21;01m.\u001b[39;00m\u001b[38;5;21;01masta\u001b[39;00m\u001b[38;5;21;01m.\u001b[39;00m\u001b[38;5;21;01mmodels\u001b[39;00m \u001b[38;5;28;01mimport\u001b[39;00m Giocatore\n\u001b[1;32m      3\u001b[0m \u001b[38;5;66;03m# Ottieni tutti i giocatori\u001b[39;00m\n\u001b[1;32m      4\u001b[0m giocatori \u001b[38;5;241m=\u001b[39m Giocatore\u001b[38;5;241m.\u001b[39mobjects\u001b[38;5;241m.\u001b[39mall()\n",
      "\u001b[0;31mModuleNotFoundError\u001b[0m: No module named 'astafantacalcio'"
     ]
    }
   ],
   "source": [
    "from astafantacalcio.asta.models import Giocatore\n",
    "\n",
    "# Ottieni tutti i giocatori\n",
    "giocatori = Giocatore.objects.all()\n",
    "\n",
    "# Stampa i giocatori\n",
    "for giocatore in giocatori:\n",
    "    print(giocatore.nome, giocatore.prezzo)\n"
   ]
  }
 ],
 "metadata": {
  "kernelspec": {
   "display_name": "Python 3",
   "language": "python",
   "name": "python3"
  },
  "language_info": {
   "codemirror_mode": {
    "name": "ipython",
    "version": 3
   },
   "file_extension": ".py",
   "mimetype": "text/x-python",
   "name": "python",
   "nbconvert_exporter": "python",
   "pygments_lexer": "ipython3",
   "version": "3.10.11"
  }
 },
 "nbformat": 4,
 "nbformat_minor": 2
}
